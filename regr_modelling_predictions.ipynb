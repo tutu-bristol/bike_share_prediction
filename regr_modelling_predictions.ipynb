{
  "cells": [
    {
      "cell_type": "markdown",
      "source": [
        "**EVALUATING THE PERFORMANCE OF 3 REGRESSION MODELS ON BIKE SHARE PREDICTION FOR SEOUL, SOUTH KOREA.**"
      ],
      "metadata": {
        "id": "egLC5pSMYZji"
      },
      "id": "egLC5pSMYZji"
    },
    {
      "cell_type": "markdown",
      "source": [
        "##Methodology Summary##\n",
        "\n",
        "Clean the data: \n",
        "    #replace categorical data points to numerical data-points \n",
        "    #categorizing date to month, e.g. 1/12/17 will be 12, and so on\n",
        "    #data shuffling of rows  to improve geenralizability and reduce bias \n",
        "\n",
        "Data split: Train, test, validation (ensure random state)\n",
        "\n",
        "Create models including dummy model \n",
        "    #Decision Tree regressor\n",
        "    #Polynomial Regressor\n",
        "    #Dummy model\n",
        "\n",
        "Fit models to data, use model to predict, get each model's performance \n",
        "    #Regression performance metrics: MSE, R squared, RMSE, MAE, Accuracy of prediction (compare all models)\n",
        "\n",
        "Hyperparameter tuning to see which parameter values maximize performance for each model \n",
        "    #DecisionTree : max depth\n",
        "    #Polynomial: Degree order \n",
        "\n",
        "Cross Validation (for model generalization) to make sure our performance is the same across splits of the data \n"
      ],
      "metadata": {
        "id": "nwC50m9xYw6a"
      },
      "id": "nwC50m9xYw6a"
    },
    {
      "cell_type": "markdown",
      "metadata": {
        "id": "-TZ5YPCjIcv1"
      },
      "source": [
        "**DATA CLEANING AND PREPARATION**"
      ],
      "id": "-TZ5YPCjIcv1"
    },
    {
      "cell_type": "code",
      "execution_count": 2,
      "metadata": {
        "id": "20f12f3b"
      },
      "outputs": [],
      "source": [
        "#import librarires \n",
        "\n",
        "import numpy as np\n",
        "import pandas as pd\n",
        "import matplotlib.pyplot as plt\n",
        "%matplotlib inline\n",
        "from sklearn.preprocessing import PolynomialFeatures\n",
        "from sklearn.model_selection import train_test_split\n",
        "from sklearn.tree import DecisionTreeRegressor\n",
        "from sklearn import datasets, linear_model\n",
        "from sklearn.linear_model import LinearRegression\n",
        "from sklearn.metrics import mean_squared_error, r2_score, mean_absolute_error #import others too \n",
        "from sklearn.model_selection import KFold\n",
        "from sklearn import tree\n",
        "from sklearn.metrics import mean_squared_error, r2_score, mean_absolute_error #import others too \n",
        "from sklearn.dummy import DummyRegressor \n",
        "\n",
        "\n",
        "#read csv \n",
        "raw_data = pd.read_csv('/content/coursework_other.csv')\n",
        "\n",
        "raw_data[raw_data.isnull().any(axis=1)] #any missing values? no missing values in data \n",
        "\n",
        "raw_data['Holiday'].replace({'No Holiday': 0, 'Holiday': 1}, inplace=True) #changing values in holiday to numeric datapoints \n",
        "raw_data['Functioning Day'].replace({'Yes': 1, 'No': 0}, inplace=True) #change Functioning day values: Yes/no to 1 and 0 \n",
        "raw_data['Seasons'].replace({'Autumn':0, 'Spring':2, 'Summer':3, 'Winter':1}, inplace=True)\n"
      ],
      "id": "20f12f3b"
    },
    {
      "cell_type": "code",
      "execution_count": 3,
      "metadata": {
        "colab": {
          "base_uri": "https://localhost:8080/",
          "height": 609
        },
        "id": "4fd9b64e",
        "outputId": "fa727d84-32bd-404a-8275-9f4b9e501c27"
      },
      "outputs": [
        {
          "output_type": "stream",
          "name": "stderr",
          "text": [
            "/usr/local/lib/python3.7/dist-packages/pandas/core/indexing.py:1732: SettingWithCopyWarning: \n",
            "A value is trying to be set on a copy of a slice from a DataFrame\n",
            "\n",
            "See the caveats in the documentation: https://pandas.pydata.org/pandas-docs/stable/user_guide/indexing.html#returning-a-view-versus-a-copy\n",
            "  self._setitem_single_block(indexer, value, name)\n"
          ]
        },
        {
          "output_type": "execute_result",
          "data": {
            "text/plain": [
              "     Date  Rented Bike Count  Hour  Temperature(∞C)  Humidity(%)  \\\n",
              "0      12                254     0             -5.2           37   \n",
              "1      12                204     1             -5.5           38   \n",
              "2      12                173     2             -6.0           39   \n",
              "3      12                107     3             -6.2           40   \n",
              "4      12                 78     4             -6.0           36   \n",
              "...   ...                ...   ...              ...          ...   \n",
              "8755   11               1003    19              4.2           34   \n",
              "8756   11                764    20              3.4           37   \n",
              "8757   11                694    21              2.6           39   \n",
              "8758   11                712    22              2.1           41   \n",
              "8759   11                584    23              1.9           43   \n",
              "\n",
              "      Wind speed (m/s)  Visibility (10m)  Dew point temperature(∞C)  \\\n",
              "0                  2.2              2000                      -17.6   \n",
              "1                  0.8              2000                      -17.6   \n",
              "2                  1.0              2000                      -17.7   \n",
              "3                  0.9              2000                      -17.6   \n",
              "4                  2.3              2000                      -18.6   \n",
              "...                ...               ...                        ...   \n",
              "8755               2.6              1894                      -10.3   \n",
              "8756               2.3              2000                       -9.9   \n",
              "8757               0.3              1968                       -9.9   \n",
              "8758               1.0              1859                       -9.8   \n",
              "8759               1.3              1909                       -9.3   \n",
              "\n",
              "      Solar Radiation (MJ/m2)  Rainfall(mm)  Snowfall (cm)  Seasons  Holiday  \\\n",
              "0                         0.0           0.0            0.0        1        0   \n",
              "1                         0.0           0.0            0.0        1        0   \n",
              "2                         0.0           0.0            0.0        1        0   \n",
              "3                         0.0           0.0            0.0        1        0   \n",
              "4                         0.0           0.0            0.0        1        0   \n",
              "...                       ...           ...            ...      ...      ...   \n",
              "8755                      0.0           0.0            0.0        0        0   \n",
              "8756                      0.0           0.0            0.0        0        0   \n",
              "8757                      0.0           0.0            0.0        0        0   \n",
              "8758                      0.0           0.0            0.0        0        0   \n",
              "8759                      0.0           0.0            0.0        0        0   \n",
              "\n",
              "      Functioning Day  \n",
              "0                   1  \n",
              "1                   1  \n",
              "2                   1  \n",
              "3                   1  \n",
              "4                   1  \n",
              "...               ...  \n",
              "8755                1  \n",
              "8756                1  \n",
              "8757                1  \n",
              "8758                1  \n",
              "8759                1  \n",
              "\n",
              "[8760 rows x 14 columns]"
            ],
            "text/html": [
              "\n",
              "  <div id=\"df-19ff8674-47ba-4587-b423-867f862633fc\">\n",
              "    <div class=\"colab-df-container\">\n",
              "      <div>\n",
              "<style scoped>\n",
              "    .dataframe tbody tr th:only-of-type {\n",
              "        vertical-align: middle;\n",
              "    }\n",
              "\n",
              "    .dataframe tbody tr th {\n",
              "        vertical-align: top;\n",
              "    }\n",
              "\n",
              "    .dataframe thead th {\n",
              "        text-align: right;\n",
              "    }\n",
              "</style>\n",
              "<table border=\"1\" class=\"dataframe\">\n",
              "  <thead>\n",
              "    <tr style=\"text-align: right;\">\n",
              "      <th></th>\n",
              "      <th>Date</th>\n",
              "      <th>Rented Bike Count</th>\n",
              "      <th>Hour</th>\n",
              "      <th>Temperature(∞C)</th>\n",
              "      <th>Humidity(%)</th>\n",
              "      <th>Wind speed (m/s)</th>\n",
              "      <th>Visibility (10m)</th>\n",
              "      <th>Dew point temperature(∞C)</th>\n",
              "      <th>Solar Radiation (MJ/m2)</th>\n",
              "      <th>Rainfall(mm)</th>\n",
              "      <th>Snowfall (cm)</th>\n",
              "      <th>Seasons</th>\n",
              "      <th>Holiday</th>\n",
              "      <th>Functioning Day</th>\n",
              "    </tr>\n",
              "  </thead>\n",
              "  <tbody>\n",
              "    <tr>\n",
              "      <th>0</th>\n",
              "      <td>12</td>\n",
              "      <td>254</td>\n",
              "      <td>0</td>\n",
              "      <td>-5.2</td>\n",
              "      <td>37</td>\n",
              "      <td>2.2</td>\n",
              "      <td>2000</td>\n",
              "      <td>-17.6</td>\n",
              "      <td>0.0</td>\n",
              "      <td>0.0</td>\n",
              "      <td>0.0</td>\n",
              "      <td>1</td>\n",
              "      <td>0</td>\n",
              "      <td>1</td>\n",
              "    </tr>\n",
              "    <tr>\n",
              "      <th>1</th>\n",
              "      <td>12</td>\n",
              "      <td>204</td>\n",
              "      <td>1</td>\n",
              "      <td>-5.5</td>\n",
              "      <td>38</td>\n",
              "      <td>0.8</td>\n",
              "      <td>2000</td>\n",
              "      <td>-17.6</td>\n",
              "      <td>0.0</td>\n",
              "      <td>0.0</td>\n",
              "      <td>0.0</td>\n",
              "      <td>1</td>\n",
              "      <td>0</td>\n",
              "      <td>1</td>\n",
              "    </tr>\n",
              "    <tr>\n",
              "      <th>2</th>\n",
              "      <td>12</td>\n",
              "      <td>173</td>\n",
              "      <td>2</td>\n",
              "      <td>-6.0</td>\n",
              "      <td>39</td>\n",
              "      <td>1.0</td>\n",
              "      <td>2000</td>\n",
              "      <td>-17.7</td>\n",
              "      <td>0.0</td>\n",
              "      <td>0.0</td>\n",
              "      <td>0.0</td>\n",
              "      <td>1</td>\n",
              "      <td>0</td>\n",
              "      <td>1</td>\n",
              "    </tr>\n",
              "    <tr>\n",
              "      <th>3</th>\n",
              "      <td>12</td>\n",
              "      <td>107</td>\n",
              "      <td>3</td>\n",
              "      <td>-6.2</td>\n",
              "      <td>40</td>\n",
              "      <td>0.9</td>\n",
              "      <td>2000</td>\n",
              "      <td>-17.6</td>\n",
              "      <td>0.0</td>\n",
              "      <td>0.0</td>\n",
              "      <td>0.0</td>\n",
              "      <td>1</td>\n",
              "      <td>0</td>\n",
              "      <td>1</td>\n",
              "    </tr>\n",
              "    <tr>\n",
              "      <th>4</th>\n",
              "      <td>12</td>\n",
              "      <td>78</td>\n",
              "      <td>4</td>\n",
              "      <td>-6.0</td>\n",
              "      <td>36</td>\n",
              "      <td>2.3</td>\n",
              "      <td>2000</td>\n",
              "      <td>-18.6</td>\n",
              "      <td>0.0</td>\n",
              "      <td>0.0</td>\n",
              "      <td>0.0</td>\n",
              "      <td>1</td>\n",
              "      <td>0</td>\n",
              "      <td>1</td>\n",
              "    </tr>\n",
              "    <tr>\n",
              "      <th>...</th>\n",
              "      <td>...</td>\n",
              "      <td>...</td>\n",
              "      <td>...</td>\n",
              "      <td>...</td>\n",
              "      <td>...</td>\n",
              "      <td>...</td>\n",
              "      <td>...</td>\n",
              "      <td>...</td>\n",
              "      <td>...</td>\n",
              "      <td>...</td>\n",
              "      <td>...</td>\n",
              "      <td>...</td>\n",
              "      <td>...</td>\n",
              "      <td>...</td>\n",
              "    </tr>\n",
              "    <tr>\n",
              "      <th>8755</th>\n",
              "      <td>11</td>\n",
              "      <td>1003</td>\n",
              "      <td>19</td>\n",
              "      <td>4.2</td>\n",
              "      <td>34</td>\n",
              "      <td>2.6</td>\n",
              "      <td>1894</td>\n",
              "      <td>-10.3</td>\n",
              "      <td>0.0</td>\n",
              "      <td>0.0</td>\n",
              "      <td>0.0</td>\n",
              "      <td>0</td>\n",
              "      <td>0</td>\n",
              "      <td>1</td>\n",
              "    </tr>\n",
              "    <tr>\n",
              "      <th>8756</th>\n",
              "      <td>11</td>\n",
              "      <td>764</td>\n",
              "      <td>20</td>\n",
              "      <td>3.4</td>\n",
              "      <td>37</td>\n",
              "      <td>2.3</td>\n",
              "      <td>2000</td>\n",
              "      <td>-9.9</td>\n",
              "      <td>0.0</td>\n",
              "      <td>0.0</td>\n",
              "      <td>0.0</td>\n",
              "      <td>0</td>\n",
              "      <td>0</td>\n",
              "      <td>1</td>\n",
              "    </tr>\n",
              "    <tr>\n",
              "      <th>8757</th>\n",
              "      <td>11</td>\n",
              "      <td>694</td>\n",
              "      <td>21</td>\n",
              "      <td>2.6</td>\n",
              "      <td>39</td>\n",
              "      <td>0.3</td>\n",
              "      <td>1968</td>\n",
              "      <td>-9.9</td>\n",
              "      <td>0.0</td>\n",
              "      <td>0.0</td>\n",
              "      <td>0.0</td>\n",
              "      <td>0</td>\n",
              "      <td>0</td>\n",
              "      <td>1</td>\n",
              "    </tr>\n",
              "    <tr>\n",
              "      <th>8758</th>\n",
              "      <td>11</td>\n",
              "      <td>712</td>\n",
              "      <td>22</td>\n",
              "      <td>2.1</td>\n",
              "      <td>41</td>\n",
              "      <td>1.0</td>\n",
              "      <td>1859</td>\n",
              "      <td>-9.8</td>\n",
              "      <td>0.0</td>\n",
              "      <td>0.0</td>\n",
              "      <td>0.0</td>\n",
              "      <td>0</td>\n",
              "      <td>0</td>\n",
              "      <td>1</td>\n",
              "    </tr>\n",
              "    <tr>\n",
              "      <th>8759</th>\n",
              "      <td>11</td>\n",
              "      <td>584</td>\n",
              "      <td>23</td>\n",
              "      <td>1.9</td>\n",
              "      <td>43</td>\n",
              "      <td>1.3</td>\n",
              "      <td>1909</td>\n",
              "      <td>-9.3</td>\n",
              "      <td>0.0</td>\n",
              "      <td>0.0</td>\n",
              "      <td>0.0</td>\n",
              "      <td>0</td>\n",
              "      <td>0</td>\n",
              "      <td>1</td>\n",
              "    </tr>\n",
              "  </tbody>\n",
              "</table>\n",
              "<p>8760 rows × 14 columns</p>\n",
              "</div>\n",
              "      <button class=\"colab-df-convert\" onclick=\"convertToInteractive('df-19ff8674-47ba-4587-b423-867f862633fc')\"\n",
              "              title=\"Convert this dataframe to an interactive table.\"\n",
              "              style=\"display:none;\">\n",
              "        \n",
              "  <svg xmlns=\"http://www.w3.org/2000/svg\" height=\"24px\"viewBox=\"0 0 24 24\"\n",
              "       width=\"24px\">\n",
              "    <path d=\"M0 0h24v24H0V0z\" fill=\"none\"/>\n",
              "    <path d=\"M18.56 5.44l.94 2.06.94-2.06 2.06-.94-2.06-.94-.94-2.06-.94 2.06-2.06.94zm-11 1L8.5 8.5l.94-2.06 2.06-.94-2.06-.94L8.5 2.5l-.94 2.06-2.06.94zm10 10l.94 2.06.94-2.06 2.06-.94-2.06-.94-.94-2.06-.94 2.06-2.06.94z\"/><path d=\"M17.41 7.96l-1.37-1.37c-.4-.4-.92-.59-1.43-.59-.52 0-1.04.2-1.43.59L10.3 9.45l-7.72 7.72c-.78.78-.78 2.05 0 2.83L4 21.41c.39.39.9.59 1.41.59.51 0 1.02-.2 1.41-.59l7.78-7.78 2.81-2.81c.8-.78.8-2.07 0-2.86zM5.41 20L4 18.59l7.72-7.72 1.47 1.35L5.41 20z\"/>\n",
              "  </svg>\n",
              "      </button>\n",
              "      \n",
              "  <style>\n",
              "    .colab-df-container {\n",
              "      display:flex;\n",
              "      flex-wrap:wrap;\n",
              "      gap: 12px;\n",
              "    }\n",
              "\n",
              "    .colab-df-convert {\n",
              "      background-color: #E8F0FE;\n",
              "      border: none;\n",
              "      border-radius: 50%;\n",
              "      cursor: pointer;\n",
              "      display: none;\n",
              "      fill: #1967D2;\n",
              "      height: 32px;\n",
              "      padding: 0 0 0 0;\n",
              "      width: 32px;\n",
              "    }\n",
              "\n",
              "    .colab-df-convert:hover {\n",
              "      background-color: #E2EBFA;\n",
              "      box-shadow: 0px 1px 2px rgba(60, 64, 67, 0.3), 0px 1px 3px 1px rgba(60, 64, 67, 0.15);\n",
              "      fill: #174EA6;\n",
              "    }\n",
              "\n",
              "    [theme=dark] .colab-df-convert {\n",
              "      background-color: #3B4455;\n",
              "      fill: #D2E3FC;\n",
              "    }\n",
              "\n",
              "    [theme=dark] .colab-df-convert:hover {\n",
              "      background-color: #434B5C;\n",
              "      box-shadow: 0px 1px 3px 1px rgba(0, 0, 0, 0.15);\n",
              "      filter: drop-shadow(0px 1px 2px rgba(0, 0, 0, 0.3));\n",
              "      fill: #FFFFFF;\n",
              "    }\n",
              "  </style>\n",
              "\n",
              "      <script>\n",
              "        const buttonEl =\n",
              "          document.querySelector('#df-19ff8674-47ba-4587-b423-867f862633fc button.colab-df-convert');\n",
              "        buttonEl.style.display =\n",
              "          google.colab.kernel.accessAllowed ? 'block' : 'none';\n",
              "\n",
              "        async function convertToInteractive(key) {\n",
              "          const element = document.querySelector('#df-19ff8674-47ba-4587-b423-867f862633fc');\n",
              "          const dataTable =\n",
              "            await google.colab.kernel.invokeFunction('convertToInteractive',\n",
              "                                                     [key], {});\n",
              "          if (!dataTable) return;\n",
              "\n",
              "          const docLinkHtml = 'Like what you see? Visit the ' +\n",
              "            '<a target=\"_blank\" href=https://colab.research.google.com/notebooks/data_table.ipynb>data table notebook</a>'\n",
              "            + ' to learn more about interactive tables.';\n",
              "          element.innerHTML = '';\n",
              "          dataTable['output_type'] = 'display_data';\n",
              "          await google.colab.output.renderOutput(dataTable, element);\n",
              "          const docLink = document.createElement('div');\n",
              "          docLink.innerHTML = docLinkHtml;\n",
              "          element.appendChild(docLink);\n",
              "        }\n",
              "      </script>\n",
              "    </div>\n",
              "  </div>\n",
              "  "
            ]
          },
          "metadata": {},
          "execution_count": 3
        }
      ],
      "source": [
        "raw_data['Date'].loc[range(744)] = 12 #categorize date by month. 1/12/17 will be 12, and so on\n",
        "raw_data['Date'].loc[744:1487] = 1\n",
        "raw_data['Date'].loc[1488:2159] = 2\n",
        "raw_data['Date'].loc[2160:2903] = 3\n",
        "raw_data['Date'].loc[2904:3623] = 4\n",
        "raw_data['Date'].loc[3624:4367] = 5\n",
        "raw_data['Date'].loc[4368:5087] = 6\n",
        "raw_data['Date'].loc[5088:5831] = 7\n",
        "raw_data['Date'].loc[5832:6575] = 8\n",
        "raw_data['Date'].loc[6576:7295] = 9\n",
        "raw_data['Date'].loc[7296:8039] = 10\n",
        "raw_data['Date'].loc[8040:8759] = 11\n",
        "raw_data"
      ],
      "id": "4fd9b64e"
    },
    {
      "cell_type": "code",
      "execution_count": 4,
      "metadata": {
        "id": "bv4ndBVY0XkA"
      },
      "outputs": [],
      "source": [
        "#SHUFFLE DATA\n",
        "shuffled_rawD = raw_data.sample(frac=1, random_state = 10).reset_index(drop=True) #shuffle all rows and reset index \n",
        "shuffled_rawD\n",
        "\n",
        "\n",
        "#seperate x and y variables \n",
        "yvar = shuffled_rawD[\"Rented Bike Count\"]\n",
        "xvar = shuffled_rawD.drop('Rented Bike Count', axis=1, inplace = False)\n",
        "xvar\n",
        "yvar\n",
        "\n",
        "#Train test split - train, test, validation (specify random state)\n",
        "\n",
        "Xtr, Xtest, Ytr, Ytest = train_test_split(xvar, yvar, test_size = 0.2, random_state = 10)\n",
        "\n",
        "\n"
      ],
      "id": "bv4ndBVY0XkA"
    },
    {
      "cell_type": "markdown",
      "metadata": {
        "id": "KrKjjcqUIXGy"
      },
      "source": [
        "**POLYNOMIAL REGRESSION**"
      ],
      "id": "KrKjjcqUIXGy"
    },
    {
      "cell_type": "code",
      "execution_count": 5,
      "metadata": {
        "colab": {
          "base_uri": "https://localhost:8080/",
          "height": 307
        },
        "id": "775aff45",
        "outputId": "46ea7e8e-e0b2-4d53-9386-afec67b6c7ba"
      },
      "outputs": [
        {
          "output_type": "execute_result",
          "data": {
            "text/plain": [
              "Text(0, 0.5, 'MSE')"
            ]
          },
          "metadata": {},
          "execution_count": 5
        },
        {
          "output_type": "display_data",
          "data": {
            "text/plain": [
              "<Figure size 432x288 with 1 Axes>"
            ],
            "image/png": "[encoded data removed]"
          },
          "metadata": {
            "needs_background": "light"
          }
        }
      ],
      "source": [
        "#Polynomial Regression \n",
        "\n",
        "regr = linear_model.LinearRegression()\n",
        "\n",
        "mse_tr = []\n",
        "mse_test = []\n",
        "max_deg = 5\n",
        "for i in range(max_deg):  #we are about to cross validation to find the degree of the polynomial that best fits this data.\n",
        "    poly=PolynomialFeatures(degree=i+1)\n",
        "    Xtrain_new = poly.fit_transform(Xtr) \n",
        "    Xval_new = poly.fit_transform(Xtest)\n",
        "    mode = regr.fit(Xtrain_new, Ytr)\n",
        "    pred_tr = mode.predict(Xtrain_new)\n",
        "    pred_v = mode.predict(Xval_new)\n",
        "    mse_tr.append(mean_squared_error(pred_tr, Ytr))\n",
        "    mse_test.append(mean_squared_error(pred_v, Ytest))\n",
        "\n",
        "plt.plot(range(1, max_deg+1), mse_tr, label='Training')\n",
        "plt.plot(range(1, max_deg+1), mse_test, label='Testing')\n",
        "plt.legend()\n",
        "plt.xlabel('Degree')\n",
        "plt.ylabel('MSE')\n",
        "\n",
        "\n",
        "#display results like charts in worksheet 14? to compare models to each other \n",
        "#poly=PolynomialFeatures(degree=1)\n",
        "#Xtest_new = poly.fit_transform(Xtest) #evaluating performance of our model at specific chose degree \n",
        "#regr.fit(Xtest_new, Ytest) #you have to fit to test data first \n",
        "#pred_test = regr.predict(Xtest_new)\n",
        "#print(f'mean squared error= {mean_squared_error(Ytest, pred_test):.4f}') #tell the report the MSE when we used a random degree such as 1. MSE is higher here. \n",
        "#print(f'R^2={r2_score(Ytest, pred_test, ):.4f}') #th\n",
        "#print(f'mean absolute error={mean_absolute_error(Ytest, pred_test):.4f}') \n"
      ],
      "id": "775aff45"
    },
    {
      "cell_type": "code",
      "execution_count": 6,
      "metadata": {
        "colab": {
          "base_uri": "https://localhost:8080/",
          "height": 296
        },
        "id": "fb9fc63e",
        "outputId": "c012d1de-afc1-403f-d18c-24935f3c86de"
      },
      "outputs": [
        {
          "output_type": "execute_result",
          "data": {
            "text/plain": [
              "Text(0, 0.5, 'R-Squared')"
            ]
          },
          "metadata": {},
          "execution_count": 6
        },
        {
          "output_type": "display_data",
          "data": {
            "text/plain": [
              "<Figure size 432x288 with 1 Axes>"
            ],
            "image/png": "[encoded data removed]"
          },
          "metadata": {
            "needs_background": "light"
          }
        }
      ],
      "source": [
        "\n",
        "#poly=PolynomialFeatures(degree=5)\n",
        "#Xtest_new = poly.fit_transform(Xtest) #evaluating performance of our model at specific chose degree \n",
        "#regr.fit(Xtest_new, Ytest) #you have to fit to test data first \n",
        "#pred_test = regr.predict(Xtest_new)\n",
        "#print(f'mean squared error= {mean_squared_error(Ytest, pred_test):.4f}') #the MSE at degree 2 is 149939.2821, tell the \n",
        "#report the MSE when we used a random degree such as 1\n",
        "#print(f'R^2={r2_score(Ytest, pred_test):.4f}') #th\n",
        "#print(f'mean absolute error={mean_absolute_error(Ytest, pred_test):.4f}') \n",
        "\n",
        "\n",
        "r2_tr = []\n",
        "r2_test = []\n",
        "max_deg = 5\n",
        "for i in range(max_deg):  #we are about to cross validation to find the degree of the polynomial that best fits this data.\n",
        "    poly=PolynomialFeatures(degree=i+1)\n",
        "    Xtrain_new = poly.fit_transform(Xtr) \n",
        "    Xval_new = poly.fit_transform(Xtest)\n",
        "    mode = regr.fit(Xtrain_new, Ytr)\n",
        "    pred_tr = mode.predict(Xtrain_new)\n",
        "    pred_v = mode.predict(Xval_new)\n",
        "    r2_tr.append(r2_score(pred_tr, Ytr))\n",
        "    r2_test.append(r2_score(pred_v, Ytest))\n",
        "\n",
        "plt.plot(range(1, max_deg+1), r2_tr, label='Training')\n",
        "plt.plot(range(1, max_deg+1), r2_test, label='Testing')\n",
        "plt.legend()\n",
        "plt.xlabel('Degree')\n",
        "plt.ylabel('R-Squared')\n",
        "\n"
      ],
      "id": "fb9fc63e"
    },
    {
      "cell_type": "code",
      "execution_count": 7,
      "metadata": {
        "colab": {
          "base_uri": "https://localhost:8080/",
          "height": 297
        },
        "id": "QDA0pb_nz7AE",
        "outputId": "f3dcd7e1-baa6-466f-ee0d-46b6f818752f"
      },
      "outputs": [
        {
          "output_type": "execute_result",
          "data": {
            "text/plain": [
              "Text(0, 0.5, 'MAE')"
            ]
          },
          "metadata": {},
          "execution_count": 7
        },
        {
          "output_type": "display_data",
          "data": {
            "text/plain": [
              "<Figure size 432x288 with 1 Axes>"
            ],
            "image/png": "[encoded data removed]"
          },
          "metadata": {
            "needs_background": "light"
          }
        }
      ],
      "source": [
        "mae_tr = []\n",
        "mae_test = []\n",
        "max_deg = 5\n",
        "for i in range(max_deg):  #we are about to cross validation to find the degree of the polynomial that best fits this data.\n",
        "    poly=PolynomialFeatures(degree=i+1)\n",
        "    Xtrain_new = poly.fit_transform(Xtr) \n",
        "    Xval_new = poly.fit_transform(Xtest)\n",
        "    mode = regr.fit(Xtrain_new, Ytr)\n",
        "    pred_tr = mode.predict(Xtrain_new)\n",
        "    pred_v = mode.predict(Xval_new)\n",
        "    mae_tr.append(mean_absolute_error(pred_tr, Ytr))\n",
        "    mae_test.append(mean_absolute_error(pred_v, Ytest))\n",
        "\n",
        "plt.plot(range(1, max_deg+1), mae_tr, label='Training')\n",
        "plt.plot(range(1, max_deg+1), mae_test, label='Testing')\n",
        "plt.legend()\n",
        "plt.xlabel('Degree')\n",
        "plt.ylabel('MAE')\n",
        "\n"
      ],
      "id": "QDA0pb_nz7AE"
    },
    {
      "cell_type": "markdown",
      "metadata": {
        "id": "I4vGLpppIN_e"
      },
      "source": [
        "**DECISION TREE REGRESSOR**"
      ],
      "id": "I4vGLpppIN_e"
    },
    {
      "cell_type": "code",
      "execution_count": 8,
      "metadata": {
        "colab": {
          "base_uri": "https://localhost:8080/",
          "height": 296
        },
        "id": "MfY2CX-L-vY1",
        "outputId": "8926357b-9c8b-42be-9e0a-30430f5e2e15"
      },
      "outputs": [
        {
          "output_type": "execute_result",
          "data": {
            "text/plain": [
              "<matplotlib.legend.Legend at 0x7f9ae7258e10>"
            ]
          },
          "metadata": {},
          "execution_count": 8
        },
        {
          "output_type": "display_data",
          "data": {
            "text/plain": [
              "<Figure size 432x288 with 1 Axes>"
            ],
            "image/png": "[encoded data removed]"
          },
          "metadata": {
            "needs_background": "light"
          }
        }
      ],
      "source": [
        "\n",
        "kf = KFold(n_splits=10, random_state=63, shuffle=True) #random state means we will get exactly the same splits every time we run this \n",
        "max_d = 7\n",
        "train_mse = [[] for _ in range(max_d)]\n",
        "val_mse = [[] for _ in range(max_d)]\n",
        "\n",
        "for d in range(max_d):\n",
        "  dtr = DecisionTreeRegressor(max_depth=d+1)\n",
        "  for train_index, val_index in kf.split(Xtr):\n",
        "      Xtrain, Xval = Xtr.iloc[train_index], Xtr.iloc[val_index] #Xtrain and Xval are data we train and test at each iteration respectively \n",
        "      ytrain, yval = Ytr.iloc[train_index], Ytr.iloc[val_index]\n",
        "      dtr.fit(Xtrain, ytrain)\n",
        "\n",
        "      pred_train = dtr.predict(Xtrain)    \n",
        "      pred_val = dtr.predict(Xval) \n",
        "      train_mse[d].append(mean_squared_error(ytrain, pred_train))\n",
        "      val_mse[d].append(mean_squared_error(yval, pred_val))\n",
        "\n",
        "train_mse_mean = np.mean(train_mse, axis=1)\n",
        "train_mse_stdev = np.std(train_mse, axis=1)\n",
        "val_mse_mean = np.mean(val_mse, axis=1)\n",
        "val_mse_stdev = np.std(val_mse, axis=1)\n",
        "\n",
        "# The arrays of means and standard deviation should have shape (max_d, ). The following will generate an error if not.\n",
        "assert(np.shape(train_mse_mean)==(max_d,))\n",
        "assert(np.shape(train_mse_stdev)==(max_d,))\n",
        "assert(np.shape(val_mse_mean)==(max_d,))\n",
        "assert(np.shape(val_mse_stdev)==(max_d,))\n",
        "\n",
        "fig2=plt.figure()\n",
        "x = list(range(1,max_d+1))\n",
        "plt.plot(x,train_mse_mean, label = 'Training MSE')\n",
        "plt.plot(x,val_mse_mean, label = 'Validation MSE')\n",
        "plt.xlabel('Tree depth')\n",
        "plt.xticks(x)\n",
        "plt.legend()\n"
      ],
      "id": "MfY2CX-L-vY1"
    },
    {
      "cell_type": "code",
      "execution_count": 9,
      "metadata": {
        "id": "1XIJlyeVGkwz",
        "colab": {
          "base_uri": "https://localhost:8080/",
          "height": 296
        },
        "outputId": "2fdb5af4-c52f-48fc-af0f-777650cf0e61"
      },
      "outputs": [
        {
          "output_type": "execute_result",
          "data": {
            "text/plain": [
              "<matplotlib.legend.Legend at 0x7f9ae725d910>"
            ]
          },
          "metadata": {},
          "execution_count": 9
        },
        {
          "output_type": "display_data",
          "data": {
            "text/plain": [
              "<Figure size 432x288 with 1 Axes>"
            ],
            "image/png": "[encoded data removed]"
          },
          "metadata": {
            "needs_background": "light"
          }
        }
      ],
      "source": [
        "kf = KFold(n_splits=10, random_state=63, shuffle=True) #random state means we will get exactly the same splits every time we run this \n",
        "max_d = 7\n",
        "train_mae = [[] for _ in range(max_d)]\n",
        "val_mae = [[] for _ in range(max_d)]\n",
        "\n",
        "for d in range(max_d):\n",
        "  dtr = DecisionTreeRegressor(max_depth=d+1)\n",
        "  for train_index, val_index in kf.split(Xtr):\n",
        "      Xtrain, Xval = Xtr.iloc[train_index], Xtr.iloc[val_index] #Xtrain and Xval are data we train and test at each iteration respectively \n",
        "      ytrain, yval = Ytr.iloc[train_index], Ytr.iloc[val_index]\n",
        "      dtr.fit(Xtrain, ytrain)\n",
        "\n",
        "      pred_train = dtr.predict(Xtrain)    \n",
        "      pred_val = dtr.predict(Xval) \n",
        "      train_mae[d].append(mean_absolute_error(ytrain, pred_train))\n",
        "      val_mae[d].append(mean_absolute_error(yval, pred_val))\n",
        "\n",
        "train_mae_mean = np.mean(train_mae, axis=1)\n",
        "train_mae_stdev = np.std(train_mae, axis=1)\n",
        "val_mae_mean = np.mean(val_mae, axis=1)\n",
        "val_mae_stdev = np.std(val_mae, axis=1)\n",
        "\n",
        "# The arrays of means and standard deviation should have shape (max_d, ). The following will generate an error if not.\n",
        "assert(np.shape(train_mae_mean)==(max_d,))\n",
        "assert(np.shape(train_mae_stdev)==(max_d,))\n",
        "assert(np.shape(val_mae_mean)==(max_d,))\n",
        "assert(np.shape(val_mae_stdev)==(max_d,))\n",
        "\n",
        "fig2=plt.figure()\n",
        "x = list(range(1,max_d+1))\n",
        "plt.plot(x,train_mae_mean, label = 'Training MAE')\n",
        "plt.plot(x,val_mae_mean, label = 'Validation MAE')\n",
        "plt.xlabel('Tree depth')\n",
        "plt.xticks(x)\n",
        "plt.legend()"
      ],
      "id": "1XIJlyeVGkwz"
    },
    {
      "cell_type": "code",
      "execution_count": 10,
      "metadata": {
        "id": "pNsjGMDNGluN",
        "colab": {
          "base_uri": "https://localhost:8080/",
          "height": 296
        },
        "outputId": "8000e14c-32dd-446c-b10e-95b3eebad6a3"
      },
      "outputs": [
        {
          "output_type": "execute_result",
          "data": {
            "text/plain": [
              "<matplotlib.legend.Legend at 0x7f9ae7191cd0>"
            ]
          },
          "metadata": {},
          "execution_count": 10
        },
        {
          "output_type": "display_data",
          "data": {
            "text/plain": [
              "<Figure size 432x288 with 1 Axes>"
            ],
            "image/png": "[encoded data removed]"
          },
          "metadata": {
            "needs_background": "light"
          }
        }
      ],
      "source": [
        "kf = KFold(n_splits=10, random_state=63, shuffle=True) #random state means we will get exactly the same splits every time we run this \n",
        "max_d = 7\n",
        "train_r2 = [[] for _ in range(max_d)]\n",
        "val_r2 = [[] for _ in range(max_d)]\n",
        "\n",
        "for d in range(max_d):\n",
        "  dtr = DecisionTreeRegressor(max_depth=d+1)\n",
        "  for train_index, val_index in kf.split(Xtr):\n",
        "      Xtrain, Xval = Xtr.iloc[train_index], Xtr.iloc[val_index] #Xtrain and Xval are data we train and test at each iteration respectively \n",
        "      ytrain, yval = Ytr.iloc[train_index], Ytr.iloc[val_index]\n",
        "      dtr.fit(Xtrain, ytrain)\n",
        "\n",
        "      pred_train = dtr.predict(Xtrain)    \n",
        "      pred_val = dtr.predict(Xval) \n",
        "      train_r2[d].append(r2_score(ytrain, pred_train))\n",
        "      val_r2[d].append(r2_score(yval, pred_val))\n",
        "\n",
        "train_r2_mean = np.mean(train_r2, axis=1)\n",
        "train_r2_stdev = np.std(train_r2, axis=1)\n",
        "val_r2_mean = np.mean(val_r2, axis=1)\n",
        "val_r2_stdev = np.std(val_r2, axis=1)\n",
        "\n",
        "# The arrays of means and standard deviation should have shape (max_d, ). The following will generate an error if not.\n",
        "assert(np.shape(train_r2_mean)==(max_d,))\n",
        "assert(np.shape(train_r2_stdev)==(max_d,))\n",
        "assert(np.shape(val_r2_mean)==(max_d,))\n",
        "assert(np.shape(val_r2_stdev)==(max_d,))\n",
        "\n",
        "fig2=plt.figure()\n",
        "x = list(range(1,max_d+1))\n",
        "plt.plot(x,train_r2_mean, label = 'Training R2')\n",
        "plt.plot(x,val_r2_mean, label = 'Validation R2')\n",
        "plt.xlabel('Tree depth')\n",
        "plt.xticks(x)\n",
        "plt.legend()"
      ],
      "id": "pNsjGMDNGluN"
    },
    {
      "cell_type": "markdown",
      "metadata": {
        "id": "824t8tAEIE_-"
      },
      "source": [
        "**DUMMY MODEL**"
      ],
      "id": "824t8tAEIE_-"
    },
    {
      "cell_type": "code",
      "execution_count": 11,
      "metadata": {
        "id": "MgfegcTi8EJE",
        "colab": {
          "base_uri": "https://localhost:8080/",
          "height": 296
        },
        "outputId": "575f03a9-9505-41c6-bb0c-97363dcc3274"
      },
      "outputs": [
        {
          "output_type": "execute_result",
          "data": {
            "text/plain": [
              "Text(0, 0.5, 'MAE')"
            ]
          },
          "metadata": {},
          "execution_count": 11
        },
        {
          "output_type": "display_data",
          "data": {
            "text/plain": [
              "<Figure size 432x288 with 1 Axes>"
            ],
            "image/png": "[encoded data removed]"
          },
          "metadata": {
            "needs_background": "light"
          }
        }
      ],
      "source": [
        "mae_tr = []\n",
        "mae_test = []\n",
        "list = ['mean', 'median', 'constant']\n",
        "\n",
        "Y = np.mean(Ytr)\n",
        "\n",
        "for i in list[0:3]:  #we are about to cross validation to find the degree of the polynomial that best fits this data.\n",
        "    dum = DummyRegressor(strategy = i, constant = Y)\n",
        "    model = dum.fit(Xtr, Ytr)\n",
        "    ypred_tr = model.predict(Xtr)\n",
        "    ypred_tst = model.predict(Xtest)\n",
        "    mae_tr.append(mean_absolute_error(ypred_tr, Ytr))\n",
        "    mae_test.append(mean_absolute_error(ypred_tst, Ytest))\n",
        "\n",
        "plt.plot(list, mae_tr, label='Training')\n",
        "plt.plot(list, mae_test, label='Testing')\n",
        "plt.legend()\n",
        "plt.xlabel('Degree')\n",
        "plt.ylabel('MAE')"
      ],
      "id": "MgfegcTi8EJE"
    },
    {
      "cell_type": "code",
      "execution_count": 12,
      "metadata": {
        "id": "J0SFLNYC_BQt",
        "colab": {
          "base_uri": "https://localhost:8080/",
          "height": 300
        },
        "outputId": "ee3cfb27-2df8-4b64-a905-d063ba2d0e9e"
      },
      "outputs": [
        {
          "output_type": "execute_result",
          "data": {
            "text/plain": [
              "Text(0, 0.5, 'MSE')"
            ]
          },
          "metadata": {},
          "execution_count": 12
        },
        {
          "output_type": "display_data",
          "data": {
            "text/plain": [
              "<Figure size 432x288 with 1 Axes>"
            ],
            "image/png": "[encoded data removed]"
          },
          "metadata": {
            "needs_background": "light"
          }
        }
      ],
      "source": [
        "mse_tr = []\n",
        "mse_test = []\n",
        "list = ['mean', 'median', 'constant']\n",
        "for i in list[0:3]:  #we are about to cross validation to find the degree of the polynomial that best fits this data.\n",
        "    dum = DummyRegressor(strategy = i, constant = Y)\n",
        "    model = dum.fit(Xtr, Ytr)\n",
        "    ypred_tr = model.predict(Xtr)\n",
        "    ypred_tst = model.predict(Xtest)\n",
        "    mse_tr.append(mean_squared_error(ypred_tr, Ytr))\n",
        "    mse_test.append(mean_squared_error(ypred_tst, Ytest))\n",
        "\n",
        "plt.plot(list, mse_tr, label='Training')\n",
        "plt.plot(list, mse_test, label='Testing')\n",
        "plt.legend()\n",
        "plt.xlabel('Degree')\n",
        "plt.ylabel('MSE')"
      ],
      "id": "J0SFLNYC_BQt"
    },
    {
      "cell_type": "code",
      "execution_count": 13,
      "metadata": {
        "id": "MZ2Zt4f7DNEe",
        "colab": {
          "base_uri": "https://localhost:8080/",
          "height": 296
        },
        "outputId": "a6828ec3-13a6-4033-e74b-e9bb9d313df1"
      },
      "outputs": [
        {
          "output_type": "execute_result",
          "data": {
            "text/plain": [
              "Text(0, 0.5, 'R2')"
            ]
          },
          "metadata": {},
          "execution_count": 13
        },
        {
          "output_type": "display_data",
          "data": {
            "text/plain": [
              "<Figure size 432x288 with 1 Axes>"
            ],
            "image/png": "[encoded data removed]"
          },
          "metadata": {
            "needs_background": "light"
          }
        }
      ],
      "source": [
        "r2_tr = []\n",
        "r2_test = []\n",
        "list = ['mean', 'median', 'constant']\n",
        "for i in list[0:3]:  #we are about to cross validation to find the degree of the polynomial that best fits this data.\n",
        "    dum = DummyRegressor(strategy = i, constant = Y)\n",
        "    model = dum.fit(Xtr, Ytr)\n",
        "    ypred_tr = model.predict(Xtr)\n",
        "    ypred_tst = model.predict(Xtest)\n",
        "    r2_tr.append(r2_score(ypred_tr, Ytr))\n",
        "    r2_test.append(r2_score(ypred_tst, Ytest))\n",
        "\n",
        "plt.plot(list, r2_tr, label='Training')\n",
        "plt.plot(list, r2_test, label='Testing')\n",
        "plt.legend()\n",
        "plt.xlabel('Degree')\n",
        "plt.ylabel('R2')"
      ],
      "id": "MZ2Zt4f7DNEe"
    },
    {
      "cell_type": "markdown",
      "metadata": {
        "id": "L-jLycjoJtJr"
      },
      "source": [
        "COMPARING ALL MODELS AT THEIR IDEAL PARAMETER VALUES "
      ],
      "id": "L-jLycjoJtJr"
    },
    {
      "cell_type": "code",
      "execution_count": 14,
      "metadata": {
        "id": "XDcesMRFJ1NM",
        "colab": {
          "base_uri": "https://localhost:8080/",
          "height": 265
        },
        "outputId": "f3a2fe03-4fc4-4187-cd76-7cab2282fdba"
      },
      "outputs": [
        {
          "output_type": "display_data",
          "data": {
            "text/plain": [
              "<Figure size 432x288 with 1 Axes>"
            ],
            "image/png": "[encoded data removed]"
          },
          "metadata": {
            "needs_background": "light"
          }
        }
      ],
      "source": [
        "\n",
        "regr = linear_model.LinearRegression()\n",
        "\n",
        "#Polynomial\n",
        "poly_mse_tr = []\n",
        "poly_mse_test = []\n",
        "poly_ideal=PolynomialFeatures(degree=3)\n",
        "Xtrain = poly_ideal.fit_transform(Xtr) \n",
        "Xval_new = poly_ideal.fit_transform(Xtest)\n",
        "mode = regr.fit(Xtrain, Ytr)\n",
        "pred_tr = mode.predict(Xtrain)\n",
        "pred_v = mode.predict(Xval_new)\n",
        "poly_mse_tr.append(mean_squared_error(pred_tr, Ytr))\n",
        "poly_mse_test.append(mean_squared_error(pred_v, Ytest))\n",
        "\n",
        "\n",
        "\n",
        "#DecisionTree\n",
        "dtr_mse_tr = []\n",
        "dtr_mse_test = []\n",
        "dtr = DecisionTreeRegressor(max_depth=4)\n",
        "mode_dtr = dtr.fit(Xtr, Ytr)\n",
        "ypred_tr = mode_dtr.predict(Xtr)\n",
        "ypred_tst = mode_dtr.predict(Xtest)\n",
        "dtr_mse_tr.append(mean_squared_error(ypred_tr, Ytr))\n",
        "dtr_mse_test.append(mean_squared_error(ypred_tst, Ytest))\n",
        "\n",
        "#Dummy\n",
        "dum_mse_tr = []\n",
        "dum_mse_test = []\n",
        "ideal_dum = DummyRegressor(strategy = 'mean')\n",
        "model = ideal_dum.fit(Xtr, Ytr)\n",
        "ypred_dum_tr = model.predict(Xtr)\n",
        "ypred_dum_tst = model.predict(Xtest)\n",
        "dum_mse_tr.append(mean_squared_error(ypred_dum_tr, Ytr))\n",
        "dum_mse_test.append(mean_squared_error(ypred_dum_tst, Ytest))\n",
        "\n",
        "\n",
        "labels=['Dummy model','DTree model','Polynomial model']\n",
        "train = [dum_mse_tr, dtr_mse_tr, poly_mse_tr]\n",
        "test=[dum_mse_test, dtr_mse_test, poly_mse_test]\n",
        "#plt.boxplot(box_plot_data,labels=['dummy','DTree','Poly'], showcaps=True, showbox=True)\n",
        "#plt.show()\n",
        "\n",
        "\n",
        "plt.plot(labels, train, label='Training')\n",
        "plt.plot(labels, test, label='Testing')\n",
        "plt.legend()\n",
        "xlabel = 'AI models'\n",
        "ylabel = 'Mean Squared Error'\n",
        "title = 'Comparison of AI model performances'\n",
        "plt.show()"
      ],
      "id": "XDcesMRFJ1NM"
    }
  ],
  "metadata": {
    "colab": {
      "collapsed_sections": [],
      "name": "regr_modelling_predictions.ipynb",
      "provenance": []
    },
    "kernelspec": {
      "display_name": "Python 3 (ipykernel)",
      "language": "python",
      "name": "python3"
    },
    "language_info": {
      "codemirror_mode": {
        "name": "ipython",
        "version": 3
      },
      "file_extension": ".py",
      "mimetype": "text/x-python",
      "name": "python",
      "nbconvert_exporter": "python",
      "pygments_lexer": "ipython3",
      "version": "3.9.7"
    }
  },
  "nbformat": 4,
  "nbformat_minor": 5
}